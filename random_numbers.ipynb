{
 "cells": [
  {
   "cell_type": "code",
   "execution_count": 10,
   "id": "5d5e0b45",
   "metadata": {},
   "outputs": [],
   "source": [
    "import random"
   ]
  },
  {
   "cell_type": "code",
   "execution_count": 11,
   "id": "5585ffed",
   "metadata": {},
   "outputs": [
    {
     "data": {
      "text/plain": [
       "-85"
      ]
     },
     "execution_count": 11,
     "metadata": {},
     "output_type": "execute_result"
    }
   ],
   "source": [
    "random.randint(-90,90)"
   ]
  },
  {
   "cell_type": "code",
   "execution_count": 12,
   "id": "a5e3a8a9",
   "metadata": {},
   "outputs": [
    {
     "data": {
      "text/plain": [
       "0.10906103124086786"
      ]
     },
     "execution_count": 12,
     "metadata": {},
     "output_type": "execute_result"
    }
   ],
   "source": [
    "random.random()"
   ]
  },
  {
   "cell_type": "code",
   "execution_count": 13,
   "id": "27aac099",
   "metadata": {},
   "outputs": [
    {
     "data": {
      "text/plain": [
       "51.42930660140237"
      ]
     },
     "execution_count": 13,
     "metadata": {},
     "output_type": "execute_result"
    }
   ],
   "source": [
    "random_number=random.randint(-90, 89)+random.random()\n",
    "random_number"
   ]
  },
  {
   "cell_type": "code",
   "execution_count": 16,
   "id": "c68478e9",
   "metadata": {},
   "outputs": [],
   "source": [
    "x = 1\n",
    "latitudes = []\n",
    "while x < 11:\n",
    "    random_lat = random.randint(-90, 89) + random.random()\n",
    "    latitudes.append(random_lat)\n",
    "    x += 1\n"
   ]
  },
  {
   "cell_type": "code",
   "execution_count": 19,
   "id": "e4fa0fba",
   "metadata": {},
   "outputs": [
    {
     "data": {
      "text/plain": [
       "53"
      ]
     },
     "execution_count": 19,
     "metadata": {},
     "output_type": "execute_result"
    }
   ],
   "source": [
    "random.randrange(-90, 90, step=1)\n"
   ]
  },
  {
   "cell_type": "code",
   "execution_count": 20,
   "id": "8d3e7530",
   "metadata": {},
   "outputs": [
    {
     "data": {
      "text/plain": [
       "42"
      ]
     },
     "execution_count": 20,
     "metadata": {},
     "output_type": "execute_result"
    }
   ],
   "source": [
    "random.randrange(-90, 90, step=3)"
   ]
  },
  {
   "cell_type": "code",
   "execution_count": 21,
   "id": "a04e4dee",
   "metadata": {},
   "outputs": [
    {
     "data": {
      "text/plain": [
       "-31.583408631565455"
      ]
     },
     "execution_count": 21,
     "metadata": {},
     "output_type": "execute_result"
    }
   ],
   "source": [
    "random.uniform(-90, 90)"
   ]
  },
  {
   "cell_type": "code",
   "execution_count": 22,
   "id": "6c238c72",
   "metadata": {},
   "outputs": [],
   "source": [
    "# Import the NumPy module.\n",
    "import numpy as np"
   ]
  },
  {
   "cell_type": "code",
   "execution_count": 24,
   "id": "72021374",
   "metadata": {},
   "outputs": [
    {
     "data": {
      "text/plain": [
       "46.13939989879921"
      ]
     },
     "execution_count": 24,
     "metadata": {},
     "output_type": "execute_result"
    }
   ],
   "source": [
    "np.random.uniform(-90.000, 90.000)"
   ]
  },
  {
   "cell_type": "code",
   "execution_count": 25,
   "id": "f492dbcf",
   "metadata": {},
   "outputs": [
    {
     "data": {
      "text/plain": [
       "59.183122929246"
      ]
     },
     "execution_count": 25,
     "metadata": {},
     "output_type": "execute_result"
    }
   ],
   "source": [
    "np.random.uniform(low=-90, high=90)"
   ]
  },
  {
   "cell_type": "code",
   "execution_count": 26,
   "id": "f08bce92",
   "metadata": {},
   "outputs": [
    {
     "data": {
      "text/plain": [
       "array([-85.22773721, -85.8080761 ,  71.35186572,  43.98951446,\n",
       "       -30.60131918,   5.54460438,  49.03483692, -25.48969009,\n",
       "         7.41055295, -61.98680598,  60.41356952,  85.8597134 ,\n",
       "        19.74610461, -15.86211498,  69.9873455 ,  89.95163029,\n",
       "        37.80510435, -13.10922934, -14.27444425, -32.23013123,\n",
       "       -58.26697605, -39.97152661, -28.17596782,  45.94891837,\n",
       "        65.46716827, -32.843251  , -36.49226379, -14.03881408,\n",
       "       -86.96769651,   3.2437958 , -39.22649538,  19.86728206,\n",
       "        89.3047744 , -27.65456803, -44.00083641,  63.73645268,\n",
       "       -79.18712542, -62.56346332,  33.3683854 ,  -4.45717249,\n",
       "        29.65054665, -73.5729365 , -18.53392353, -82.35096804,\n",
       "       -58.51554958,  68.14146202,  -4.33793434,   2.75868097,\n",
       "        16.9759719 , -39.99854138])"
      ]
     },
     "execution_count": 26,
     "metadata": {},
     "output_type": "execute_result"
    }
   ],
   "source": [
    "np.random.uniform(-90.000, 90.000, size=50)"
   ]
  },
  {
   "cell_type": "code",
   "execution_count": 27,
   "id": "adcd474c",
   "metadata": {},
   "outputs": [],
   "source": [
    "# Import timeit.\n",
    "import timeit"
   ]
  },
  {
   "cell_type": "code",
   "execution_count": 30,
   "id": "c954a5d7",
   "metadata": {},
   "outputs": [
    {
     "name": "stdout",
     "output_type": "stream",
     "text": [
      "50.3 µs ± 1.13 µs per loop (mean ± std. dev. of 7 runs, 10,000 loops each)\n"
     ]
    }
   ],
   "source": [
    "%timeit np.random.uniform(-90.000, 90.000, size=1500)"
   ]
  },
  {
   "cell_type": "code",
   "execution_count": 29,
   "id": "83fb313b",
   "metadata": {},
   "outputs": [
    {
     "name": "stdout",
     "output_type": "stream",
     "text": [
      "4.81 ms ± 551 µs per loop (mean ± std. dev. of 7 runs, 100 loops each)\n"
     ]
    }
   ],
   "source": [
    "def latitudes(size):\n",
    "    latitudes = []\n",
    "    x = 0\n",
    "    while x < (size):\n",
    "        random_lat = random.randint(-90, 90) + random.random()\n",
    "        latitudes.append(random_lat)\n",
    "        x += 1\n",
    "    return latitudes\n",
    "# Call the function with 1500.\n",
    "%timeit latitudes(1500)"
   ]
  },
  {
   "cell_type": "code",
   "execution_count": null,
   "id": "a1c2c37c",
   "metadata": {},
   "outputs": [],
   "source": []
  }
 ],
 "metadata": {
  "kernelspec": {
   "display_name": "PythonData",
   "language": "python",
   "name": "pythondata"
  },
  "language_info": {
   "codemirror_mode": {
    "name": "ipython",
    "version": 3
   },
   "file_extension": ".py",
   "mimetype": "text/x-python",
   "name": "python",
   "nbconvert_exporter": "python",
   "pygments_lexer": "ipython3",
   "version": "3.9.12"
  }
 },
 "nbformat": 4,
 "nbformat_minor": 5
}
